{
 "cells": [
  {
   "cell_type": "code",
   "execution_count": 1,
   "metadata": {},
   "outputs": [
    {
     "name": "stdout",
     "output_type": "stream",
     "text": [
      "Training these words: yes,no\n",
      "Training steps in each stage: 12000,3000\n",
      "Learning rate in each stage: 0.001,0.0001\n",
      "Total number of training steps: 15000\n"
     ]
    }
   ],
   "source": [
    "# A comma-delimited list of the words you want to train for.\n",
    "# The options are: yes,no,up,down,left,right,on,off,stop,go\n",
    "# All the other words will be used to train an \"unknown\" label and silent\n",
    "# audio data with no spoken words will be used to train a \"silence\" label.\n",
    "WANTED_WORDS = \"yes,no\"\n",
    "\n",
    "# The number of steps and learning rates can be specified as comma-separated\n",
    "# lists to define the rate at each stage. For example,\n",
    "# TRAINING_STEPS=12000,3000 and LEARNING_RATE=0.001,0.0001\n",
    "# will run 12,000 training loops in total, with a rate of 0.001 for the first\n",
    "# 8,000, and 0.0001 for the final 3,000.\n",
    "TRAINING_STEPS = \"12000,3000\"\n",
    "LEARNING_RATE = \"0.001,0.0001\"\n",
    "\n",
    "# Calculate the total number of steps, which is used to identify the checkpoint\n",
    "# file name.\n",
    "TOTAL_STEPS = str(sum(map(lambda string: int(string), TRAINING_STEPS.split(\",\"))))\n",
    "\n",
    "# Print the configuration to confirm it\n",
    "print(\"Training these words: %s\" % WANTED_WORDS)\n",
    "print(\"Training steps in each stage: %s\" % TRAINING_STEPS)\n",
    "print(\"Learning rate in each stage: %s\" % LEARNING_RATE)\n",
    "print(\"Total number of training steps: %s\" % TOTAL_STEPS)"
   ]
  },
  {
   "cell_type": "code",
   "execution_count": 2,
   "metadata": {},
   "outputs": [],
   "source": [
    "# Calculate the percentage of 'silence' and 'unknown' training samples required\n",
    "# to ensure that we have equal number of samples for each label.\n",
    "number_of_labels = WANTED_WORDS.count(',') + 1\n",
    "number_of_total_labels = number_of_labels + 2 # for 'silence' and 'unknown' label\n",
    "equal_percentage_of_training_samples = int(100.0/(number_of_total_labels))\n",
    "SILENT_PERCENTAGE = equal_percentage_of_training_samples\n",
    "UNKNOWN_PERCENTAGE = equal_percentage_of_training_samples\n",
    "\n",
    "# Constants which are shared during training and inference\n",
    "PREPROCESS = 'micro'\n",
    "WINDOW_STRIDE = 20\n",
    "MODEL_ARCHITECTURE = 'tiny_conv' # Other options include: single_fc, conv,\n",
    "                      # low_latency_conv, low_latency_svdf, tiny_embedding_conv\n",
    "\n",
    "# Constants used during training only\n",
    "VERBOSITY = 'WARN'\n",
    "EVAL_STEP_INTERVAL = '1000'\n",
    "SAVE_STEP_INTERVAL = '1000'\n",
    "\n",
    "# Constants for training directories and filepaths\n",
    "DATASET_DIR =  'dataset/'\n",
    "LOGS_DIR = 'logs/'\n",
    "TRAIN_DIR = 'train/' # for training checkpoints and other files.\n",
    "\n",
    "# Constants for inference directories and filepaths\n",
    "import os\n",
    "MODELS_DIR = 'models'\n",
    "if not os.path.exists(MODELS_DIR):\n",
    "  os.mkdir(MODELS_DIR)\n",
    "MODEL_TF = os.path.join(MODELS_DIR, 'model.pb')\n",
    "MODEL_TFLITE = os.path.join(MODELS_DIR, 'model.tflite')\n",
    "FLOAT_MODEL_TFLITE = os.path.join(MODELS_DIR, 'float_model.tflite')\n",
    "MODEL_TFLITE_MICRO = os.path.join(MODELS_DIR, 'model.cc')\n",
    "SAVED_MODEL = os.path.join(MODELS_DIR, 'saved_model')\n",
    "\n",
    "QUANT_INPUT_MIN = 0.0\n",
    "QUANT_INPUT_MAX = 26.0\n",
    "QUANT_INPUT_RANGE = QUANT_INPUT_MAX - QUANT_INPUT_MIN"
   ]
  },
  {
   "cell_type": "code",
   "execution_count": 3,
   "metadata": {},
   "outputs": [],
   "source": [
    "import tensorflow as tf"
   ]
  },
  {
   "cell_type": "code",
   "execution_count": 4,
   "metadata": {},
   "outputs": [],
   "source": [
    "!rm -rf {DATASET_DIR} {LOGS_DIR} {TRAIN_DIR} {MODELS_DIR}"
   ]
  },
  {
   "cell_type": "code",
   "execution_count": 7,
   "metadata": {},
   "outputs": [],
   "source": [
    "!git clone -q --depth 1 https://github.com/tensorflow/tensorflow"
   ]
  },
  {
   "cell_type": "code",
   "execution_count": null,
   "metadata": {},
   "outputs": [
    {
     "name": "stdout",
     "output_type": "stream",
     "text": [
      "2020-10-22 18:18:08.882883: I tensorflow/core/platform/cpu_feature_guard.cc:142] Your CPU supports instructions that this TensorFlow binary was not compiled to use: AVX2 FMA\n",
      "2020-10-22 18:18:08.933449: I tensorflow/compiler/xla/service/service.cc:168] XLA service 0x7fa5627041c0 initialized for platform Host (this does not guarantee that XLA will be used). Devices:\n",
      "2020-10-22 18:18:08.933490: I tensorflow/compiler/xla/service/service.cc:176]   StreamExecutor device (0): Host, Default Version\n",
      ">> Downloading speech_commands_v0.02.tar.gz 36.5%3.6% 5.5% 5.5% 6.0%ar.gz 6.1% 6.4% 7.4% 8.5% 8.9% 9.3% 9.6%7%ommands_v0.02.tar.gz 10.9%_commands_v0.02.tar.gz 10.9%ommands_v0.02.tar.gz 11.2%ommands_v0.02.tar.gz 11.8%ommands_v0.02.tar.gz 12.0%ommands_v0.02.tar.gz 12.0%ommands_v0.02.tar.gz 12.3%5%2.5%6%ommands_v0.02.tar.gz 12.8%_commands_v0.02.tar.gz 12.8%_commands_v0.02.tar.gz 14.2%ommands_v0.02.tar.gz 14.4%ommands_v0.02.tar.gz 15.1%ommands_v0.02.tar.gz 15.3%ommands_v0.02.tar.gz 15.4%ommands_v0.02.tar.gz 15.5%ommands_v0.02.tar.gz 15.7%ommands_v0.02.tar.gz 15.7%ommands_v0.02.tar.gz 16.0%ommands_v0.02.tar.gz 16.1%2%ommands_v0.02.tar.gz 16.7%8%_commands_v0.02.tar.gz 16.8%9%9%ommands_v0.02.tar.gz 17.1%ommands_v0.02.tar.gz 17.2%_commands_v0.02.tar.gz 17.2%4%4%ommands_v0.02.tar.gz 17.5%_commands_v0.02.tar.gz 17.6%_commands_v0.02.tar.gz 17.7%ommands_v0.02.tar.gz 17.7%ommands_v0.02.tar.gz 17.8%ommands_v0.02.tar.gz 17.9%9%9%0%ommands_v0.02.tar.gz 18.0%ommands_v0.02.tar.gz 18.1%speech_commands_v0.02.tar.gz 18.3%ommands_v0.02.tar.gz 18.4%ommands_v0.02.tar.gz 18.5%ommands_v0.02.tar.gz 18.6%ommands_v0.02.tar.gz 18.8%ommands_v0.02.tar.gz 19.4%ommands_v0.02.tar.gz 19.5%5%ommands_v0.02.tar.gz 19.6%ommands_v0.02.tar.gz 19.6%ommands_v0.02.tar.gz 19.9%9%_commands_v0.02.tar.gz 19.9%ommands_v0.02.tar.gz 20.0%ommands_v0.02.tar.gz 20.0%_commands_v0.02.tar.gz 20.1%1%_commands_v0.02.tar.gz 20.2%0.2% 20.2%ommands_v0.02.tar.gz 20.2% 20.4%4%ommands_v0.02.tar.gz 20.7%7%_commands_v0.02.tar.gz 21.1%ch_commands_v0.02.tar.gz 21.1%ing speech_commands_v0.02.tar.gz 21.2%ommands_v0.02.tar.gz 21.2%ommands_v0.02.tar.gz 21.3%4%ommands_v0.02.tar.gz 21.5%ommands_v0.02.tar.gz 21.6%ommands_v0.02.tar.gz 21.7%_commands_v0.02.tar.gz 21.7%ommands_v0.02.tar.gz 21.8%0%0%2%_commands_v0.02.tar.gz 22.2%ommands_v0.02.tar.gz 22.2%ommands_v0.02.tar.gz 22.3%ommands_v0.02.tar.gz 22.4%5%_commands_v0.02.tar.gz 22.5% 22.7%ch_commands_v0.02.tar.gz 22.7%2.8%ommands_v0.02.tar.gz 22.9%9%ommands_v0.02.tar.gz 22.9%_commands_v0.02.tar.gz 23.0%1%ommands_v0.02.tar.gz 23.2%ommands_v0.02.tar.gz 23.3%ommands_v0.02.tar.gz 23.6%6%3.7%7%ommands_v0.02.tar.gz 23.7%_commands_v0.02.tar.gz 23.8%ommands_v0.02.tar.gz 23.8%ommands_v0.02.tar.gz 23.9%ommands_v0.02.tar.gz 24.1%_commands_v0.02.tar.gz 24.1%ommands_v0.02.tar.gz 24.2%4.3%ommands_v0.02.tar.gz 24.3%3%ommands_v0.02.tar.gz 24.3%4%4.4%ch_commands_v0.02.tar.gz 24.4% 24.4%_commands_v0.02.tar.gz 24.5%4.5%ch_commands_v0.02.tar.gz 24.5%4.6%ommands_v0.02.tar.gz 24.6%6%ommands_v0.02.tar.gz 24.6%_commands_v0.02.tar.gz 24.6%ommands_v0.02.tar.gz 24.7%ommands_v0.02.tar.gz 24.8%ch_commands_v0.02.tar.gz 24.8%_commands_v0.02.tar.gz 24.8%ommands_v0.02.tar.gz 24.9%0%0%ommands_v0.02.tar.gz 25.0%ommands_v0.02.tar.gz 25.1%ommands_v0.02.tar.gz 25.1%ommands_v0.02.tar.gz 25.2%2%ommands_v0.02.tar.gz 25.2%5.3%5.3%ommands_v0.02.tar.gz 25.4%5%ommands_v0.02.tar.gz 25.6%7%_commands_v0.02.tar.gz 25.8%8%ommands_v0.02.tar.gz 25.9%ommands_v0.02.tar.gz 26.0%0%1%ommands_v0.02.tar.gz 26.2%ommands_v0.02.tar.gz 26.3%_commands_v0.02.tar.gz 26.4%ommands_v0.02.tar.gz 26.4%ommands_v0.02.tar.gz 26.5%ommands_v0.02.tar.gz 26.6%ommands_v0.02.tar.gz 26.6%ommands_v0.02.tar.gz 26.6%_commands_v0.02.tar.gz 26.8%ommands_v0.02.tar.gz 26.8%ommands_v0.02.tar.gz 26.9%gz 26.9%ommands_v0.02.tar.gz 27.0%0%ommands_v0.02.tar.gz 27.0%1%ommands_v0.02.tar.gz 27.1%ommands_v0.02.tar.gz 27.2%ommands_v0.02.tar.gz 27.3%ommands_v0.02.tar.gz 27.3%ommands_v0.02.tar.gz 27.4%_commands_v0.02.tar.gz 27.4%4%ommands_v0.02.tar.gz 27.4%ommands_v0.02.tar.gz 27.5%ommands_v0.02.tar.gz 27.6%ommands_v0.02.tar.gz 27.7%7%ommands_v0.02.tar.gz 27.7%_commands_v0.02.tar.gz 27.8%8%8%ommands_v0.02.tar.gz 27.9%ommands_v0.02.tar.gz 28.0%1%_commands_v0.02.tar.gz 28.1%_commands_v0.02.tar.gz 28.2%_commands_v0.02.tar.gz 28.4%ommands_v0.02.tar.gz 28.5%ommands_v0.02.tar.gz 28.5%ommands_v0.02.tar.gz 28.6%_commands_v0.02.tar.gz 28.6%8.6%7%_commands_v0.02.tar.gz 28.7%ommands_v0.02.tar.gz 28.7%8%ommands_v0.02.tar.gz 28.8%8%ommands_v0.02.tar.gz 28.8%_commands_v0.02.tar.gz 28.9%eech_commands_v0.02.tar.gz 28.9%0% 29.1%_commands_v0.02.tar.gz 29.2%_commands_v0.02.tar.gz 29.2%2%_commands_v0.02.tar.gz 29.2%9.2%eech_commands_v0.02.tar.gz 29.2%_commands_v0.02.tar.gz 29.3%ch_commands_v0.02.tar.gz 29.3% 29.3%gz 29.3%r.gz 29.3%ing speech_commands_v0.02.tar.gz 29.4%ommands_v0.02.tar.gz 29.4%ommands_v0.02.tar.gz 29.4%ommands_v0.02.tar.gz 29.4%5%_commands_v0.02.tar.gz 29.5%6%6%ommands_v0.02.tar.gz 29.7%8%9.9% 29.9%9%_commands_v0.02.tar.gz 29.9%0%ommands_v0.02.tar.gz 30.1%ommands_v0.02.tar.gz 30.1%2%ommands_v0.02.tar.gz 30.2%ommands_v0.02.tar.gz 30.3%3%_commands_v0.02.tar.gz 30.3%ommands_v0.02.tar.gz 30.3%3%ommands_v0.02.tar.gz 30.3%4%ommands_v0.02.tar.gz 30.4%ommands_v0.02.tar.gz 30.5%ommands_v0.02.tar.gz 30.5%5%ommands_v0.02.tar.gz 30.6%ommands_v0.02.tar.gz 30.6%_commands_v0.02.tar.gz 30.6%0.7%ommands_v0.02.tar.gz 30.7%ommands_v0.02.tar.gz 30.7%0.8%_commands_v0.02.tar.gz 30.8%ommands_v0.02.tar.gz 30.8%ommands_v0.02.tar.gz 30.9%_commands_v0.02.tar.gz 30.9%eech_commands_v0.02.tar.gz 30.9%ommands_v0.02.tar.gz 31.0%_commands_v0.02.tar.gz 31.0%_commands_v0.02.tar.gz 31.1%2%ommands_v0.02.tar.gz 31.3%_commands_v0.02.tar.gz 31.3%ch_commands_v0.02.tar.gz 31.3%ommands_v0.02.tar.gz 31.3%ommands_v0.02.tar.gz 31.4%4%4%5%6%ommands_v0.02.tar.gz 31.6%_commands_v0.02.tar.gz 31.7%ommands_v0.02.tar.gz 31.7%ommands_v0.02.tar.gz 31.7%_commands_v0.02.tar.gz 31.8%ommands_v0.02.tar.gz 31.8%ommands_v0.02.tar.gz 31.9%ommands_v0.02.tar.gz 31.9%9%ommands_v0.02.tar.gz 32.0%ommands_v0.02.tar.gz 32.0%ommands_v0.02.tar.gz 32.0%ch_commands_v0.02.tar.gz 32.1%2%2%ommands_v0.02.tar.gz 32.2%_commands_v0.02.tar.gz 32.3%ommands_v0.02.tar.gz 32.3%3%ommands_v0.02.tar.gz 32.3%4%ommands_v0.02.tar.gz 32.5%2.5%ch_commands_v0.02.tar.gz 32.5%5%_commands_v0.02.tar.gz 32.6%ommands_v0.02.tar.gz 32.6%7%7%_commands_v0.02.tar.gz 32.7%8%ommands_v0.02.tar.gz 32.8%9%_commands_v0.02.tar.gz 32.9%ommands_v0.02.tar.gz 33.0%0%0%ommands_v0.02.tar.gz 33.0%ommands_v0.02.tar.gz 33.1%1%ommands_v0.02.tar.gz 33.1%1%_commands_v0.02.tar.gz 33.1%ch_commands_v0.02.tar.gz 33.2%eech_commands_v0.02.tar.gz 33.2%2%3.2%eech_commands_v0.02.tar.gz 33.2%gz 33.3%ommands_v0.02.tar.gz 33.3%ommands_v0.02.tar.gz 33.4%ommands_v0.02.tar.gz 33.4%4%ommands_v0.02.tar.gz 33.4%4%ommands_v0.02.tar.gz 33.5%5%ch_commands_v0.02.tar.gz 33.5%speech_commands_v0.02.tar.gz 33.5%r.gz 33.6%6%ommands_v0.02.tar.gz 33.6%ommands_v0.02.tar.gz 33.6%ommands_v0.02.tar.gz 33.7%ommands_v0.02.tar.gz 33.7%7%_commands_v0.02.tar.gz 33.8%ommands_v0.02.tar.gz 33.8%3.8%_commands_v0.02.tar.gz 33.9%9%ommands_v0.02.tar.gz 34.0%ommands_v0.02.tar.gz 34.0%ommands_v0.02.tar.gz 34.0%ommands_v0.02.tar.gz 34.1%ommands_v0.02.tar.gz 34.2%ommands_v0.02.tar.gz 34.3%_commands_v0.02.tar.gz 34.3%ommands_v0.02.tar.gz 34.4%ommands_v0.02.tar.gz 34.4%4%ommands_v0.02.tar.gz 34.4%ommands_v0.02.tar.gz 34.5%_commands_v0.02.tar.gz 34.6%ommands_v0.02.tar.gz 34.6%ommands_v0.02.tar.gz 34.7%_commands_v0.02.tar.gz 34.7%ch_commands_v0.02.tar.gz 34.7%gz 34.7%ing speech_commands_v0.02.tar.gz 34.7%ommands_v0.02.tar.gz 34.8%ommands_v0.02.tar.gz 34.8%ommands_v0.02.tar.gz 34.8%_commands_v0.02.tar.gz 34.9%ommands_v0.02.tar.gz 35.0%ommands_v0.02.tar.gz 35.0%ommands_v0.02.tar.gz 35.0%1%ommands_v0.02.tar.gz 35.2%2% 35.3%ommands_v0.02.tar.gz 35.3%ommands_v0.02.tar.gz 35.3%ommands_v0.02.tar.gz 35.4%ommands_v0.02.tar.gz 35.5%5.5%ch_commands_v0.02.tar.gz 35.5%5%5.6% 35.6%ommands_v0.02.tar.gz 35.8%ommands_v0.02.tar.gz 35.8%ommands_v0.02.tar.gz 35.9%_commands_v0.02.tar.gz 36.0%6.0%eech_commands_v0.02.tar.gz 36.0%1%_commands_v0.02.tar.gz 36.1%ommands_v0.02.tar.gz 36.1%ommands_v0.02.tar.gz 36.2%2%ommands_v0.02.tar.gz 36.3% 36.3%ommands_v0.02.tar.gz 36.3%3%4%ommands_v0.02.tar.gz 36.4%5%>> Downloading speech_commands_v0.02.tar.gz 56.7%6.6%speech_commands_v0.02.tar.gz 36.8%9%ommands_v0.02.tar.gz 37.0%ommands_v0.02.tar.gz 37.0%ommands_v0.02.tar.gz 37.1%_commands_v0.02.tar.gz 37.1% 37.1%ommands_v0.02.tar.gz 37.1%ommands_v0.02.tar.gz 37.2%ommands_v0.02.tar.gz 37.3%_commands_v0.02.tar.gz 37.3%ch_commands_v0.02.tar.gz 37.3%ommands_v0.02.tar.gz 37.4%ommands_v0.02.tar.gz 37.4%_commands_v0.02.tar.gz 37.4%ommands_v0.02.tar.gz 37.4%5%ommands_v0.02.tar.gz 37.5%ommands_v0.02.tar.gz 37.5%_commands_v0.02.tar.gz 37.6%_commands_v0.02.tar.gz 37.6%ommands_v0.02.tar.gz 37.7%8%ommands_v0.02.tar.gz 37.8%_commands_v0.02.tar.gz 37.8%ch_commands_v0.02.tar.gz 37.8%ommands_v0.02.tar.gz 37.9%ommands_v0.02.tar.gz 38.0%ommands_v0.02.tar.gz 38.0%0%ommands_v0.02.tar.gz 38.1%ommands_v0.02.tar.gz 38.1%ommands_v0.02.tar.gz 38.1%_commands_v0.02.tar.gz 38.1%ommands_v0.02.tar.gz 38.2%2%ommands_v0.02.tar.gz 38.2%8.2%ch_commands_v0.02.tar.gz 38.2%3%ommands_v0.02.tar.gz 38.3%_commands_v0.02.tar.gz 38.3%_commands_v0.02.tar.gz 38.3%gz 38.4%g speech_commands_v0.02.tar.gz 38.4%5%_commands_v0.02.tar.gz 38.6%_commands_v0.02.tar.gz 38.6%7%ommands_v0.02.tar.gz 38.8%ommands_v0.02.tar.gz 38.9%ommands_v0.02.tar.gz 38.9%0%ommands_v0.02.tar.gz 39.1%1%ommands_v0.02.tar.gz 39.1%_commands_v0.02.tar.gz 39.2%ommands_v0.02.tar.gz 39.2%ommands_v0.02.tar.gz 39.3%3%ommands_v0.02.tar.gz 39.3%ommands_v0.02.tar.gz 39.3%3%ommands_v0.02.tar.gz 39.4%_commands_v0.02.tar.gz 39.4%ommands_v0.02.tar.gz 39.4%9.5%ommands_v0.02.tar.gz 39.6%_commands_v0.02.tar.gz 39.6%6%7%7%7%8%9%_commands_v0.02.tar.gz 39.9%ommands_v0.02.tar.gz 39.9%ommands_v0.02.tar.gz 40.0%ommands_v0.02.tar.gz 40.1%1%ommands_v0.02.tar.gz 40.1%1%ommands_v0.02.tar.gz 40.2%ommands_v0.02.tar.gz 40.2%_commands_v0.02.tar.gz 40.2%_commands_v0.02.tar.gz 40.3%3%0.3%ommands_v0.02.tar.gz 40.4%0.4%ommands_v0.02.tar.gz 40.5%_commands_v0.02.tar.gz 40.6%ommands_v0.02.tar.gz 40.6%6%_commands_v0.02.tar.gz 40.6%_commands_v0.02.tar.gz 40.6%0.7%_commands_v0.02.tar.gz 40.7%7%_commands_v0.02.tar.gz 40.7%ommands_v0.02.tar.gz 40.8%9%ommands_v0.02.tar.gz 40.9%ommands_v0.02.tar.gz 41.0%ommands_v0.02.tar.gz 41.0%ommands_v0.02.tar.gz 41.0%1.2%3%3%4%4%ommands_v0.02.tar.gz 41.4%ch_commands_v0.02.tar.gz 41.5%ommands_v0.02.tar.gz 41.5%ommands_v0.02.tar.gz 41.6%ommands_v0.02.tar.gz 41.6%6%ommands_v0.02.tar.gz 41.7%1.7%ommands_v0.02.tar.gz 41.8%8%ommands_v0.02.tar.gz 41.9%ommands_v0.02.tar.gz 41.9%9%0%_commands_v0.02.tar.gz 42.0%ommands_v0.02.tar.gz 42.0%2.1% 42.1%speech_commands_v0.02.tar.gz 42.1%ommands_v0.02.tar.gz 42.1%ommands_v0.02.tar.gz 42.1%ommands_v0.02.tar.gz 42.2%2.2%gz 42.3%3%ommands_v0.02.tar.gz 42.3%_commands_v0.02.tar.gz 42.3%2.4%g speech_commands_v0.02.tar.gz 42.4%5%ommands_v0.02.tar.gz 42.6%7%2.8%2.8% 42.8%r.gz 42.8%ing speech_commands_v0.02.tar.gz 42.9%9%ommands_v0.02.tar.gz 42.9%9%ommands_v0.02.tar.gz 43.0%ommands_v0.02.tar.gz 43.0%0%ommands_v0.02.tar.gz 43.1%3.1%ommands_v0.02.tar.gz 43.1%2%_commands_v0.02.tar.gz 43.2%ch_commands_v0.02.tar.gz 43.2%ommands_v0.02.tar.gz 43.2%ch_commands_v0.02.tar.gz 43.2%ommands_v0.02.tar.gz 43.3%3%ommands_v0.02.tar.gz 43.4%ommands_v0.02.tar.gz 43.5% 43.5%6%ommands_v0.02.tar.gz 43.6%_commands_v0.02.tar.gz 43.6%6%8%8%9%ommands_v0.02.tar.gz 44.0%ommands_v0.02.tar.gz 44.1%_commands_v0.02.tar.gz 44.2%2%4.3%4%ommands_v0.02.tar.gz 44.4%5%5%_commands_v0.02.tar.gz 44.6%ch_commands_v0.02.tar.gz 44.6%ommands_v0.02.tar.gz 44.6%ommands_v0.02.tar.gz 44.7%ommands_v0.02.tar.gz 44.7%_commands_v0.02.tar.gz 44.7%4.7%7%ommands_v0.02.tar.gz 44.8%ommands_v0.02.tar.gz 44.8%ommands_v0.02.tar.gz 44.8%8%4.9%ommands_v0.02.tar.gz 44.9%ommands_v0.02.tar.gz 45.0%ommands_v0.02.tar.gz 45.0%0%5.0%gz 45.0%r.gz 45.1%ommands_v0.02.tar.gz 45.2%_commands_v0.02.tar.gz 45.2%3%ommands_v0.02.tar.gz 45.3%ommands_v0.02.tar.gz 45.4%_commands_v0.02.tar.gz 45.5%_commands_v0.02.tar.gz 45.5%ch_commands_v0.02.tar.gz 45.6%ommands_v0.02.tar.gz 45.6%ommands_v0.02.tar.gz 45.7%7%5.8%ommands_v0.02.tar.gz 45.8%ommands_v0.02.tar.gz 45.8%_commands_v0.02.tar.gz 45.9%ommands_v0.02.tar.gz 45.9%9%0%_commands_v0.02.tar.gz 46.0%ommands_v0.02.tar.gz 46.0%0%1%_commands_v0.02.tar.gz 46.1%ommands_v0.02.tar.gz 46.1%ommands_v0.02.tar.gz 46.1%2%_commands_v0.02.tar.gz 46.3%3%speech_commands_v0.02.tar.gz 46.4%ommands_v0.02.tar.gz 46.5%6.5%ommands_v0.02.tar.gz 46.5%_commands_v0.02.tar.gz 46.6%6%6.7%ommands_v0.02.tar.gz 46.8%ommands_v0.02.tar.gz 46.9%_commands_v0.02.tar.gz 46.9%6.9%ommands_v0.02.tar.gz 47.1%1%ommands_v0.02.tar.gz 47.2%ommands_v0.02.tar.gz 47.2%_commands_v0.02.tar.gz 47.3%4%4%7.5%ommands_v0.02.tar.gz 47.5%7.6%ommands_v0.02.tar.gz 47.6%7%_commands_v0.02.tar.gz 47.8%ommands_v0.02.tar.gz 47.9%9%0%ch_commands_v0.02.tar.gz 48.1%1%8.1%1%_commands_v0.02.tar.gz 48.2%2%ommands_v0.02.tar.gz 48.2%2%ommands_v0.02.tar.gz 48.3%_commands_v0.02.tar.gz 48.3% 48.3%8.4%8.4%4%8.5%6%6%7%ommands_v0.02.tar.gz 48.7%8.7%8%ommands_v0.02.tar.gz 48.9%9%ommands_v0.02.tar.gz 48.9%ommands_v0.02.tar.gz 49.0%ommands_v0.02.tar.gz 49.0%ommands_v0.02.tar.gz 49.1%ommands_v0.02.tar.gz 49.1%ommands_v0.02.tar.gz 49.1%_commands_v0.02.tar.gz 49.2% 49.2%ommands_v0.02.tar.gz 49.2%ommands_v0.02.tar.gz 49.3%3%_commands_v0.02.tar.gz 49.3%_commands_v0.02.tar.gz 49.4% 49.4%ommands_v0.02.tar.gz 49.4%ommands_v0.02.tar.gz 49.4%ommands_v0.02.tar.gz 49.5%5%6%ommands_v0.02.tar.gz 49.7%7%ommands_v0.02.tar.gz 49.7%_commands_v0.02.tar.gz 49.8%8%ommands_v0.02.tar.gz 49.8%_commands_v0.02.tar.gz 50.0%0%ommands_v0.02.tar.gz 50.1%1%ommands_v0.02.tar.gz 50.2%ch_commands_v0.02.tar.gz 50.2%ommands_v0.02.tar.gz 50.3%_commands_v0.02.tar.gz 50.4%6%6%ch_commands_v0.02.tar.gz 50.6%ommands_v0.02.tar.gz 50.7%0.7%7%ommands_v0.02.tar.gz 50.8%8%ommands_v0.02.tar.gz 50.8%8%0.8%ommands_v0.02.tar.gz 50.9%_commands_v0.02.tar.gz 51.0%_commands_v0.02.tar.gz 51.0%1.0% 51.1%ommands_v0.02.tar.gz 51.1%1%_commands_v0.02.tar.gz 51.1%1.2%ommands_v0.02.tar.gz 51.2%ommands_v0.02.tar.gz 51.3%ommands_v0.02.tar.gz 51.4%4%4%ommands_v0.02.tar.gz 51.4%ommands_v0.02.tar.gz 51.5%ommands_v0.02.tar.gz 51.5%_commands_v0.02.tar.gz 51.6%ommands_v0.02.tar.gz 51.6%ommands_v0.02.tar.gz 51.6%6%ommands_v0.02.tar.gz 51.7%ommands_v0.02.tar.gz 51.7%1.7%8%_commands_v0.02.tar.gz 51.8%ommands_v0.02.tar.gz 51.8%ommands_v0.02.tar.gz 51.8%ch_commands_v0.02.tar.gz 51.9%ommands_v0.02.tar.gz 51.9%ommands_v0.02.tar.gz 52.0%_commands_v0.02.tar.gz 52.0%2.1%ommands_v0.02.tar.gz 52.2%_commands_v0.02.tar.gz 52.3%3%_commands_v0.02.tar.gz 52.4%5%5%6%2.6%8%8%9%_commands_v0.02.tar.gz 53.0%ommands_v0.02.tar.gz 53.0%1%3.1% 53.2%_commands_v0.02.tar.gz 53.2%ommands_v0.02.tar.gz 53.2%ommands_v0.02.tar.gz 53.3%_commands_v0.02.tar.gz 53.3%3.3%3.4%_commands_v0.02.tar.gz 53.4%ommands_v0.02.tar.gz 53.6%ommands_v0.02.tar.gz 53.6%_commands_v0.02.tar.gz 53.6%ommands_v0.02.tar.gz 53.7%_commands_v0.02.tar.gz 53.7%ommands_v0.02.tar.gz 53.8%8%ommands_v0.02.tar.gz 53.9%ch_commands_v0.02.tar.gz 53.9%ommands_v0.02.tar.gz 53.9%9%ommands_v0.02.tar.gz 54.0%_commands_v0.02.tar.gz 54.0%ommands_v0.02.tar.gz 54.0%ommands_v0.02.tar.gz 54.1%4.1%ommands_v0.02.tar.gz 54.3%_commands_v0.02.tar.gz 54.3%ch_commands_v0.02.tar.gz 54.4% 54.4%4%ommands_v0.02.tar.gz 54.4%ommands_v0.02.tar.gz 54.5% 54.5%ommands_v0.02.tar.gz 54.6%ommands_v0.02.tar.gz 54.6%7%4.8%eech_commands_v0.02.tar.gz 54.8%ommands_v0.02.tar.gz 54.8%_commands_v0.02.tar.gz 54.8%ommands_v0.02.tar.gz 55.0%ommands_v0.02.tar.gz 55.0%ommands_v0.02.tar.gz 55.0%ommands_v0.02.tar.gz 55.1%ommands_v0.02.tar.gz 55.1%2%ommands_v0.02.tar.gz 55.2%2%ommands_v0.02.tar.gz 55.3%3%ommands_v0.02.tar.gz 55.4%5.4%ch_commands_v0.02.tar.gz 55.4%ommands_v0.02.tar.gz 55.5%_commands_v0.02.tar.gz 55.5%5%ommands_v0.02.tar.gz 55.5%_commands_v0.02.tar.gz 55.6%ch_commands_v0.02.tar.gz 55.6%ommands_v0.02.tar.gz 55.6%ommands_v0.02.tar.gz 55.7%_commands_v0.02.tar.gz 55.7%ommands_v0.02.tar.gz 55.8%ommands_v0.02.tar.gz 55.9%_commands_v0.02.tar.gz 56.0%0%ommands_v0.02.tar.gz 56.1%_commands_v0.02.tar.gz 56.1%_commands_v0.02.tar.gz 56.1%ommands_v0.02.tar.gz 56.2%ommands_v0.02.tar.gz 56.3%3%_commands_v0.02.tar.gz 56.4%_commands_v0.02.tar.gz 56.4%5%ommands_v0.02.tar.gz 56.5%ommands_v0.02.tar.gz 56.5%gz 56.6%ing speech_commands_v0.02.tar.gz 56.6%ommands_v0.02.tar.gz 56.7%ch_commands_v0.02.tar.gz 56.7%ch_commands_v0.02.tar.gz 56.7%>> Downloading speech_commands_v0.02.tar.gz 75.4%_commands_v0.02.tar.gz 56.8%ommands_v0.02.tar.gz 56.8%ommands_v0.02.tar.gz 56.9%ommands_v0.02.tar.gz 57.1%gz 57.3%3%ommands_v0.02.tar.gz 57.3%ch_commands_v0.02.tar.gz 57.4%ommands_v0.02.tar.gz 57.5%6%ommands_v0.02.tar.gz 57.6%ommands_v0.02.tar.gz 57.7%7%_commands_v0.02.tar.gz 57.8%gz 57.8%_commands_v0.02.tar.gz 57.9%_commands_v0.02.tar.gz 57.9%9%eech_commands_v0.02.tar.gz 58.0%0%0%_commands_v0.02.tar.gz 58.2%2%_commands_v0.02.tar.gz 58.2%8.3%3%ommands_v0.02.tar.gz 58.4%ommands_v0.02.tar.gz 58.4%4%5%ommands_v0.02.tar.gz 58.6%6%ommands_v0.02.tar.gz 58.7%ch_commands_v0.02.tar.gz 58.7%7%eech_commands_v0.02.tar.gz 58.8%8%ommands_v0.02.tar.gz 58.9%9%ch_commands_v0.02.tar.gz 59.0%0% 59.1%ommands_v0.02.tar.gz 59.2%ommands_v0.02.tar.gz 59.2%3%eech_commands_v0.02.tar.gz 59.3%3%9.4%4%ommands_v0.02.tar.gz 59.5%ommands_v0.02.tar.gz 59.5%ommands_v0.02.tar.gz 59.5%ommands_v0.02.tar.gz 59.5%ommands_v0.02.tar.gz 59.6%ommands_v0.02.tar.gz 59.6%6%gz 59.7%ommands_v0.02.tar.gz 59.7%7%7%ommands_v0.02.tar.gz 59.8%8% 59.8%9%9%0%_commands_v0.02.tar.gz 60.0%eech_commands_v0.02.tar.gz 60.0%1%_commands_v0.02.tar.gz 60.1%ch_commands_v0.02.tar.gz 60.1%ommands_v0.02.tar.gz 60.2%ommands_v0.02.tar.gz 60.2%_commands_v0.02.tar.gz 60.3%ommands_v0.02.tar.gz 60.4%ch_commands_v0.02.tar.gz 60.5%5%5%ommands_v0.02.tar.gz 60.6%ommands_v0.02.tar.gz 60.6%8%_commands_v0.02.tar.gz 60.8%8%8%ommands_v0.02.tar.gz 60.9%9%ommands_v0.02.tar.gz 60.9%ommands_v0.02.tar.gz 61.0%_commands_v0.02.tar.gz 61.0%ch_commands_v0.02.tar.gz 61.1%eech_commands_v0.02.tar.gz 61.1%ommands_v0.02.tar.gz 61.1%ommands_v0.02.tar.gz 61.1%1.2%1.2%gz 61.3%ommands_v0.02.tar.gz 61.4%ommands_v0.02.tar.gz 61.5%6%ommands_v0.02.tar.gz 61.6%7%_commands_v0.02.tar.gz 61.7%7%_commands_v0.02.tar.gz 61.8%ch_commands_v0.02.tar.gz 61.8%ommands_v0.02.tar.gz 61.8%9%ommands_v0.02.tar.gz 61.9%ommands_v0.02.tar.gz 61.9%0%_commands_v0.02.tar.gz 62.0%2.0%ommands_v0.02.tar.gz 62.0%ommands_v0.02.tar.gz 62.1%ommands_v0.02.tar.gz 62.1%_commands_v0.02.tar.gz 62.1% 62.2%ommands_v0.02.tar.gz 62.2%2%ommands_v0.02.tar.gz 62.2%_commands_v0.02.tar.gz 62.3%ommands_v0.02.tar.gz 62.3%ommands_v0.02.tar.gz 62.3%ommands_v0.02.tar.gz 62.4%4%ommands_v0.02.tar.gz 62.4%ommands_v0.02.tar.gz 62.4%5%speech_commands_v0.02.tar.gz 62.5%ommands_v0.02.tar.gz 62.7%ommands_v0.02.tar.gz 62.8%ommands_v0.02.tar.gz 62.9%ommands_v0.02.tar.gz 62.9%9%0%gz 63.0%1%ommands_v0.02.tar.gz 63.1%1%ommands_v0.02.tar.gz 63.2%ommands_v0.02.tar.gz 63.2%3.2%ommands_v0.02.tar.gz 63.2%ommands_v0.02.tar.gz 63.3%ommands_v0.02.tar.gz 63.4%ommands_v0.02.tar.gz 63.5%3.5%ommands_v0.02.tar.gz 63.6%ommands_v0.02.tar.gz 63.6%ommands_v0.02.tar.gz 63.7%7%3.7%gz 63.7%tar.gz 63.7%ommands_v0.02.tar.gz 63.8%8%ommands_v0.02.tar.gz 63.9%ommands_v0.02.tar.gz 63.9%ommands_v0.02.tar.gz 63.9%9%_commands_v0.02.tar.gz 64.0%0%ommands_v0.02.tar.gz 64.1%4.1%ommands_v0.02.tar.gz 64.1%2%ommands_v0.02.tar.gz 64.2%_commands_v0.02.tar.gz 64.2%ommands_v0.02.tar.gz 64.2%3%_commands_v0.02.tar.gz 64.3%4.3%ommands_v0.02.tar.gz 64.3%4%ommands_v0.02.tar.gz 64.4%4%ommands_v0.02.tar.gz 64.5%ommands_v0.02.tar.gz 64.5%_commands_v0.02.tar.gz 64.5%ch_commands_v0.02.tar.gz 64.6% 64.6%ommands_v0.02.tar.gz 64.7%ch_commands_v0.02.tar.gz 64.7%ommands_v0.02.tar.gz 64.7%ommands_v0.02.tar.gz 64.8%ommands_v0.02.tar.gz 64.8%4.8%ommands_v0.02.tar.gz 64.9%9%9%4.9%eech_commands_v0.02.tar.gz 64.9%0%0%eech_commands_v0.02.tar.gz 65.0%ommands_v0.02.tar.gz 65.1%_commands_v0.02.tar.gz 65.1%ommands_v0.02.tar.gz 65.2%2%_commands_v0.02.tar.gz 65.2%_commands_v0.02.tar.gz 65.2%5.2%3%ommands_v0.02.tar.gz 65.3%3%_commands_v0.02.tar.gz 65.3%4%_commands_v0.02.tar.gz 65.4%5.4% 65.4%eech_commands_v0.02.tar.gz 65.4%gz 65.4%5%5.5%5%_commands_v0.02.tar.gz 65.5%ch_commands_v0.02.tar.gz 65.5%ch_commands_v0.02.tar.gz 65.5%ommands_v0.02.tar.gz 65.6%_commands_v0.02.tar.gz 65.6%_commands_v0.02.tar.gz 65.6%5.6%ch_commands_v0.02.tar.gz 65.6%eech_commands_v0.02.tar.gz 65.6%ommands_v0.02.tar.gz 65.7%7%7%_commands_v0.02.tar.gz 65.8%8%_commands_v0.02.tar.gz 65.9%ommands_v0.02.tar.gz 65.9%9%ommands_v0.02.tar.gz 66.0%_commands_v0.02.tar.gz 66.0%1%_commands_v0.02.tar.gz 66.1%ch_commands_v0.02.tar.gz 66.1%ommands_v0.02.tar.gz 66.1%_commands_v0.02.tar.gz 66.2%2%_commands_v0.02.tar.gz 66.2%ommands_v0.02.tar.gz 66.2%_commands_v0.02.tar.gz 66.3%ommands_v0.02.tar.gz 66.4%ch_commands_v0.02.tar.gz 66.5%_commands_v0.02.tar.gz 66.7%ommands_v0.02.tar.gz 66.7%ommands_v0.02.tar.gz 66.8%_commands_v0.02.tar.gz 66.8%ommands_v0.02.tar.gz 66.9%9%ommands_v0.02.tar.gz 67.1%1%ommands_v0.02.tar.gz 67.1%ommands_v0.02.tar.gz 67.1%ommands_v0.02.tar.gz 67.2%2%_commands_v0.02.tar.gz 67.2%ch_commands_v0.02.tar.gz 67.2%2%ommands_v0.02.tar.gz 67.2%ommands_v0.02.tar.gz 67.3%ommands_v0.02.tar.gz 67.4%_commands_v0.02.tar.gz 67.4%ommands_v0.02.tar.gz 67.5%ommands_v0.02.tar.gz 67.5%5%ommands_v0.02.tar.gz 67.6%ommands_v0.02.tar.gz 67.6%7%7%ommands_v0.02.tar.gz 67.7%ommands_v0.02.tar.gz 67.8%7.9%ommands_v0.02.tar.gz 68.0%ommands_v0.02.tar.gz 68.0%1%2%ommands_v0.02.tar.gz 68.2%_commands_v0.02.tar.gz 68.2%ommands_v0.02.tar.gz 68.3%3%_commands_v0.02.tar.gz 68.3%3%_commands_v0.02.tar.gz 68.3%ch_commands_v0.02.tar.gz 68.4% 68.4%ommands_v0.02.tar.gz 68.4%ommands_v0.02.tar.gz 68.4%ch_commands_v0.02.tar.gz 68.5%6%ommands_v0.02.tar.gz 68.6%6%ommands_v0.02.tar.gz 68.7%ch_commands_v0.02.tar.gz 68.8%8.8%ommands_v0.02.tar.gz 68.9%ommands_v0.02.tar.gz 68.9%ommands_v0.02.tar.gz 69.0%ommands_v0.02.tar.gz 69.1%_commands_v0.02.tar.gz 69.2%_commands_v0.02.tar.gz 69.2%2%ommands_v0.02.tar.gz 69.3%ommands_v0.02.tar.gz 69.3%ommands_v0.02.tar.gz 69.3%5%ommands_v0.02.tar.gz 69.5%5%6%_commands_v0.02.tar.gz 69.6%ommands_v0.02.tar.gz 69.8%ommands_v0.02.tar.gz 69.8%8%_commands_v0.02.tar.gz 69.9%ommands_v0.02.tar.gz 69.9%ommands_v0.02.tar.gz 70.0%0%0%_commands_v0.02.tar.gz 70.1%ommands_v0.02.tar.gz 70.1%_commands_v0.02.tar.gz 70.1%ommands_v0.02.tar.gz 70.2% 70.2%tar.gz 70.2%ommands_v0.02.tar.gz 70.4%ommands_v0.02.tar.gz 70.4%_commands_v0.02.tar.gz 70.4%ch_commands_v0.02.tar.gz 70.6%6%0.8%0.8%0.8%ommands_v0.02.tar.gz 70.8%ch_commands_v0.02.tar.gz 70.9%ommands_v0.02.tar.gz 71.0%ommands_v0.02.tar.gz 71.0%ommands_v0.02.tar.gz 71.2%ommands_v0.02.tar.gz 71.2%2%1.4%4%ommands_v0.02.tar.gz 71.5%ommands_v0.02.tar.gz 71.5%_commands_v0.02.tar.gz 71.6%6%ommands_v0.02.tar.gz 71.7%8%_commands_v0.02.tar.gz 71.8%_commands_v0.02.tar.gz 71.8%ommands_v0.02.tar.gz 71.9% 71.9%ommands_v0.02.tar.gz 72.0%_commands_v0.02.tar.gz 72.0%1%2.2%2%ommands_v0.02.tar.gz 72.2%_commands_v0.02.tar.gz 72.2%4%ommands_v0.02.tar.gz 72.4%2.5%ommands_v0.02.tar.gz 72.5%5%ommands_v0.02.tar.gz 72.6%ommands_v0.02.tar.gz 72.6%6%ommands_v0.02.tar.gz 72.7%8%ommands_v0.02.tar.gz 72.8%ch_commands_v0.02.tar.gz 72.9%gz 72.9%ommands_v0.02.tar.gz 72.9%ommands_v0.02.tar.gz 72.9%ommands_v0.02.tar.gz 73.0%ommands_v0.02.tar.gz 73.1%ommands_v0.02.tar.gz 73.1%ch_commands_v0.02.tar.gz 73.2%3%ommands_v0.02.tar.gz 73.3%ommands_v0.02.tar.gz 73.3%ommands_v0.02.tar.gz 73.4%ch_commands_v0.02.tar.gz 73.4%5%5%ommands_v0.02.tar.gz 73.5%3.6%ommands_v0.02.tar.gz 73.6%ch_commands_v0.02.tar.gz 73.7%eech_commands_v0.02.tar.gz 73.7%gz 73.7%7%_commands_v0.02.tar.gz 73.7%ommands_v0.02.tar.gz 73.8%8%ommands_v0.02.tar.gz 73.9%ommands_v0.02.tar.gz 74.0%_commands_v0.02.tar.gz 74.0%ommands_v0.02.tar.gz 74.0%4.1%ommands_v0.02.tar.gz 74.1%1%ch_commands_v0.02.tar.gz 74.1%_commands_v0.02.tar.gz 74.1%ommands_v0.02.tar.gz 74.2%2%ommands_v0.02.tar.gz 74.2%ommands_v0.02.tar.gz 74.3%ommands_v0.02.tar.gz 74.3%_commands_v0.02.tar.gz 74.3%4%4%_commands_v0.02.tar.gz 74.5%eech_commands_v0.02.tar.gz 74.5%speech_commands_v0.02.tar.gz 74.5%ommands_v0.02.tar.gz 74.5%_commands_v0.02.tar.gz 74.5%4.6%_commands_v0.02.tar.gz 74.6%eech_commands_v0.02.tar.gz 74.6%g speech_commands_v0.02.tar.gz 74.7%ading speech_commands_v0.02.tar.gz 74.7%7%ommands_v0.02.tar.gz 74.8%_commands_v0.02.tar.gz 74.8%9%9%ommands_v0.02.tar.gz 75.0%ch_commands_v0.02.tar.gz 75.0%ommands_v0.02.tar.gz 75.0%_commands_v0.02.tar.gz 75.0%ommands_v0.02.tar.gz 75.1%ommands_v0.02.tar.gz 75.2%ommands_v0.02.tar.gz 75.2%_commands_v0.02.tar.gz 75.2%ommands_v0.02.tar.gz 75.3%ommands_v0.02.tar.gz 75.3%3%_commands_v0.02.tar.gz 75.4%_commands_v0.02.tar.gz 75.4%>> Downloading speech_commands_v0.02.tar.gz 97.1%ommands_v0.02.tar.gz 75.5%ommands_v0.02.tar.gz 75.5%6%ommands_v0.02.tar.gz 75.6%6%ommands_v0.02.tar.gz 75.6%_commands_v0.02.tar.gz 75.7%ommands_v0.02.tar.gz 75.7%ommands_v0.02.tar.gz 75.7%ommands_v0.02.tar.gz 75.8%ommands_v0.02.tar.gz 75.8%ommands_v0.02.tar.gz 75.8%ommands_v0.02.tar.gz 75.9%ommands_v0.02.tar.gz 75.9%ommands_v0.02.tar.gz 75.9%9%ommands_v0.02.tar.gz 75.9%ommands_v0.02.tar.gz 76.0%ommands_v0.02.tar.gz 76.1%ommands_v0.02.tar.gz 76.1%ommands_v0.02.tar.gz 76.2%ommands_v0.02.tar.gz 76.2%ommands_v0.02.tar.gz 76.2%_commands_v0.02.tar.gz 76.3%3%ommands_v0.02.tar.gz 76.3%ommands_v0.02.tar.gz 76.3%4%4%6.4%_commands_v0.02.tar.gz 76.5%ommands_v0.02.tar.gz 76.5%ommands_v0.02.tar.gz 76.6%ommands_v0.02.tar.gz 76.6%ommands_v0.02.tar.gz 76.6%ommands_v0.02.tar.gz 76.8%ommands_v0.02.tar.gz 76.8%ommands_v0.02.tar.gz 76.8%ommands_v0.02.tar.gz 76.8%ch_commands_v0.02.tar.gz 76.9%_commands_v0.02.tar.gz 76.9%ommands_v0.02.tar.gz 77.0%0%ommands_v0.02.tar.gz 77.1%3%_commands_v0.02.tar.gz 77.3%ommands_v0.02.tar.gz 77.4%_commands_v0.02.tar.gz 77.5%5%ommands_v0.02.tar.gz 77.5%ommands_v0.02.tar.gz 77.6%ommands_v0.02.tar.gz 77.6%ommands_v0.02.tar.gz 77.6%7%ommands_v0.02.tar.gz 77.7%7%8%8%ommands_v0.02.tar.gz 78.1%ch_commands_v0.02.tar.gz 78.2%2%ommands_v0.02.tar.gz 78.2%_commands_v0.02.tar.gz 78.3%3%ommands_v0.02.tar.gz 78.3%ommands_v0.02.tar.gz 78.4%4%ommands_v0.02.tar.gz 78.5%8.6%ch_commands_v0.02.tar.gz 78.6%ommands_v0.02.tar.gz 78.7%ommands_v0.02.tar.gz 78.7%_commands_v0.02.tar.gz 78.7%ommands_v0.02.tar.gz 78.7%_commands_v0.02.tar.gz 78.8%ommands_v0.02.tar.gz 78.8%9%ommands_v0.02.tar.gz 79.0%2%3%_commands_v0.02.tar.gz 79.4%_commands_v0.02.tar.gz 79.4%5%ommands_v0.02.tar.gz 79.5%_commands_v0.02.tar.gz 79.6%ommands_v0.02.tar.gz 79.6%_commands_v0.02.tar.gz 79.6%9.7%ommands_v0.02.tar.gz 79.7%7%_commands_v0.02.tar.gz 79.8%gz 79.8%9%ommands_v0.02.tar.gz 80.0%ommands_v0.02.tar.gz 80.0%_commands_v0.02.tar.gz 80.0%_commands_v0.02.tar.gz 80.0%ommands_v0.02.tar.gz 80.1%ommands_v0.02.tar.gz 80.2%2%0.3%3%ommands_v0.02.tar.gz 80.3%ommands_v0.02.tar.gz 80.4%0.4%gz 80.5%5%ch_commands_v0.02.tar.gz 80.6%_commands_v0.02.tar.gz 80.6%7%ommands_v0.02.tar.gz 80.7%8%ommands_v0.02.tar.gz 80.8%8% 80.9%ommands_v0.02.tar.gz 80.9%0%_commands_v0.02.tar.gz 81.0%ommands_v0.02.tar.gz 81.0%_commands_v0.02.tar.gz 81.1% 81.1%r.gz 81.1%ommands_v0.02.tar.gz 81.2%_commands_v0.02.tar.gz 81.2%3%3%ommands_v0.02.tar.gz 81.3%4%ommands_v0.02.tar.gz 81.5%6%ommands_v0.02.tar.gz 81.7%7%7%ommands_v0.02.tar.gz 81.8%ch_commands_v0.02.tar.gz 81.9%ommands_v0.02.tar.gz 82.0%ch_commands_v0.02.tar.gz 82.0%0% 82.1%2.1%3% 82.3%r.gz 82.3%_commands_v0.02.tar.gz 82.3%4%ommands_v0.02.tar.gz 82.4%ommands_v0.02.tar.gz 82.5%ommands_v0.02.tar.gz 82.5%2.6%_commands_v0.02.tar.gz 82.7%_commands_v0.02.tar.gz 82.8%ommands_v0.02.tar.gz 82.8%ommands_v0.02.tar.gz 82.8%ommands_v0.02.tar.gz 82.9%9%9%ommands_v0.02.tar.gz 83.0%_commands_v0.02.tar.gz 83.0%_commands_v0.02.tar.gz 83.0%ommands_v0.02.tar.gz 83.0%_commands_v0.02.tar.gz 83.1%_commands_v0.02.tar.gz 83.1%1%_commands_v0.02.tar.gz 83.2%3%ommands_v0.02.tar.gz 83.3%3%ommands_v0.02.tar.gz 83.4%4% 83.4%_commands_v0.02.tar.gz 83.5%ommands_v0.02.tar.gz 83.5%6%ch_commands_v0.02.tar.gz 83.6%ommands_v0.02.tar.gz 83.6%_commands_v0.02.tar.gz 83.7%ommands_v0.02.tar.gz 83.7%ch_commands_v0.02.tar.gz 83.7%ommands_v0.02.tar.gz 83.8%ommands_v0.02.tar.gz 83.8%ommands_v0.02.tar.gz 83.8%ommands_v0.02.tar.gz 83.9%_commands_v0.02.tar.gz 84.0%1%_commands_v0.02.tar.gz 84.2%ommands_v0.02.tar.gz 84.2%4.3%ommands_v0.02.tar.gz 84.3%ch_commands_v0.02.tar.gz 84.3%gz 84.4%ommands_v0.02.tar.gz 84.4%5%6%ommands_v0.02.tar.gz 84.6%_commands_v0.02.tar.gz 84.6%7%7%ommands_v0.02.tar.gz 84.7%_commands_v0.02.tar.gz 84.8%eech_commands_v0.02.tar.gz 84.8%ommands_v0.02.tar.gz 84.9%9%ommands_v0.02.tar.gz 84.9%9%5.0%2%2% 85.2%2%_commands_v0.02.tar.gz 85.3%4%ommands_v0.02.tar.gz 85.5%5%eech_commands_v0.02.tar.gz 85.6%ommands_v0.02.tar.gz 85.6%ommands_v0.02.tar.gz 85.7%ommands_v0.02.tar.gz 85.8%ommands_v0.02.tar.gz 85.8%9%ommands_v0.02.tar.gz 86.0%ommands_v0.02.tar.gz 86.1%ommands_v0.02.tar.gz 86.2%2%_commands_v0.02.tar.gz 86.3%4%4%5%_commands_v0.02.tar.gz 86.5%ommands_v0.02.tar.gz 86.6%7%ch_commands_v0.02.tar.gz 86.7%_commands_v0.02.tar.gz 86.8%eech_commands_v0.02.tar.gz 86.8%8%_commands_v0.02.tar.gz 87.0%0%1%_commands_v0.02.tar.gz 87.1%_commands_v0.02.tar.gz 87.1%1%ch_commands_v0.02.tar.gz 87.2%gz 87.2%tar.gz 87.2%5%ommands_v0.02.tar.gz 87.5%_commands_v0.02.tar.gz 87.6%6%6%_commands_v0.02.tar.gz 87.7%_commands_v0.02.tar.gz 87.8%8%_commands_v0.02.tar.gz 87.8%ommands_v0.02.tar.gz 87.9%7.9%ommands_v0.02.tar.gz 88.0%1%1%ommands_v0.02.tar.gz 88.3%_commands_v0.02.tar.gz 88.3%eech_commands_v0.02.tar.gz 88.3%8.4%ommands_v0.02.tar.gz 88.5%_commands_v0.02.tar.gz 88.6%6%_commands_v0.02.tar.gz 88.6%_commands_v0.02.tar.gz 88.6%7%8.7%ommands_v0.02.tar.gz 88.8%ommands_v0.02.tar.gz 88.8%ommands_v0.02.tar.gz 88.8%ch_commands_v0.02.tar.gz 88.9%ommands_v0.02.tar.gz 88.9%ommands_v0.02.tar.gz 88.9%ommands_v0.02.tar.gz 88.9%ommands_v0.02.tar.gz 89.0%0%0%9.1%_commands_v0.02.tar.gz 89.2%ommands_v0.02.tar.gz 89.2%2%ommands_v0.02.tar.gz 89.3%ommands_v0.02.tar.gz 89.4%ommands_v0.02.tar.gz 89.4%9.4%speech_commands_v0.02.tar.gz 89.4%ommands_v0.02.tar.gz 89.5%5%ommands_v0.02.tar.gz 89.6%7%8%ommands_v0.02.tar.gz 89.8%ommands_v0.02.tar.gz 89.9%9%ommands_v0.02.tar.gz 90.0%0%ommands_v0.02.tar.gz 90.0%ommands_v0.02.tar.gz 90.1%2%ommands_v0.02.tar.gz 90.2%ommands_v0.02.tar.gz 90.2%2%ommands_v0.02.tar.gz 90.2%_commands_v0.02.tar.gz 90.3%_commands_v0.02.tar.gz 90.4%0.4%4%ommands_v0.02.tar.gz 90.4%ommands_v0.02.tar.gz 90.4%ommands_v0.02.tar.gz 90.5%5%ommands_v0.02.tar.gz 90.5%5%ommands_v0.02.tar.gz 90.6%ch_commands_v0.02.tar.gz 90.6%ommands_v0.02.tar.gz 90.7%ommands_v0.02.tar.gz 90.7%8%ommands_v0.02.tar.gz 90.9%_commands_v0.02.tar.gz 90.9% 90.9%ommands_v0.02.tar.gz 91.0%_commands_v0.02.tar.gz 91.1%ommands_v0.02.tar.gz 91.2%_commands_v0.02.tar.gz 91.2%3%4%4%ommands_v0.02.tar.gz 91.5%_commands_v0.02.tar.gz 91.5%5%6%ommands_v0.02.tar.gz 91.7%ommands_v0.02.tar.gz 91.7%ommands_v0.02.tar.gz 91.7%ommands_v0.02.tar.gz 91.8%ch_commands_v0.02.tar.gz 91.9%ommands_v0.02.tar.gz 91.9%9%ommands_v0.02.tar.gz 91.9%ommands_v0.02.tar.gz 92.0%ommands_v0.02.tar.gz 92.2%ommands_v0.02.tar.gz 92.2%ommands_v0.02.tar.gz 92.3%3%3%4%ommands_v0.02.tar.gz 92.4%4%_commands_v0.02.tar.gz 92.5%_commands_v0.02.tar.gz 92.5%ommands_v0.02.tar.gz 92.5%_commands_v0.02.tar.gz 92.6%eech_commands_v0.02.tar.gz 92.6%ommands_v0.02.tar.gz 92.8%ommands_v0.02.tar.gz 92.8%_commands_v0.02.tar.gz 92.8% 92.9%9%ommands_v0.02.tar.gz 93.0%ommands_v0.02.tar.gz 93.0%0%ommands_v0.02.tar.gz 93.1%2%ommands_v0.02.tar.gz 93.2%4%ommands_v0.02.tar.gz 93.4%ommands_v0.02.tar.gz 93.5%5%ommands_v0.02.tar.gz 93.5%ommands_v0.02.tar.gz 93.6%6% 93.6%r.gz 93.6%ommands_v0.02.tar.gz 93.9%0% 94.0%0%ch_commands_v0.02.tar.gz 94.1%_commands_v0.02.tar.gz 94.1% 94.1%_commands_v0.02.tar.gz 94.1%ommands_v0.02.tar.gz 94.2%_commands_v0.02.tar.gz 94.2%ommands_v0.02.tar.gz 94.3%_commands_v0.02.tar.gz 94.3%ommands_v0.02.tar.gz 94.4%4.4%ommands_v0.02.tar.gz 94.5%ommands_v0.02.tar.gz 94.5%5%ommands_v0.02.tar.gz 94.6%ommands_v0.02.tar.gz 94.7%_commands_v0.02.tar.gz 94.8%8%9%4.9% 94.9%speech_commands_v0.02.tar.gz 95.0%5.0%ommands_v0.02.tar.gz 95.0%_commands_v0.02.tar.gz 95.1%1%2%ommands_v0.02.tar.gz 95.2%2%_commands_v0.02.tar.gz 95.3%5.4%ommands_v0.02.tar.gz 95.4%ommands_v0.02.tar.gz 95.4%_commands_v0.02.tar.gz 95.4%5.4% 95.5%ommands_v0.02.tar.gz 95.5%5%5.7%ommands_v0.02.tar.gz 95.7%8%ommands_v0.02.tar.gz 95.8%8% 95.8%ommands_v0.02.tar.gz 95.9%_commands_v0.02.tar.gz 96.0%0%0%ommands_v0.02.tar.gz 96.1%2%ch_commands_v0.02.tar.gz 96.2%ommands_v0.02.tar.gz 96.2%_commands_v0.02.tar.gz 96.2%ommands_v0.02.tar.gz 96.3%ommands_v0.02.tar.gz 96.4%ommands_v0.02.tar.gz 96.5%ommands_v0.02.tar.gz 96.5%_commands_v0.02.tar.gz 96.6%eech_commands_v0.02.tar.gz 96.6%ommands_v0.02.tar.gz 96.6%_commands_v0.02.tar.gz 96.6%ommands_v0.02.tar.gz 96.7%ommands_v0.02.tar.gz 96.7%_commands_v0.02.tar.gz 96.8%ommands_v0.02.tar.gz 96.8%ommands_v0.02.tar.gz 96.9%ommands_v0.02.tar.gz 96.9%ommands_v0.02.tar.gz 97.0%ommands_v0.02.tar.gz 97.1%>> Downloading speech_commands_v0.02.tar.gz 100.0%mmands_v0.02.tar.gz 97.6%ommands_v0.02.tar.gz 97.6%ommands_v0.02.tar.gz 97.7%ommands_v0.02.tar.gz 97.7%ommands_v0.02.tar.gz 97.8%8%ommands_v0.02.tar.gz 97.8%9%_commands_v0.02.tar.gz 97.9%_commands_v0.02.tar.gz 97.9%7.9%ommands_v0.02.tar.gz 97.9%ommands_v0.02.tar.gz 97.9%0%ommands_v0.02.tar.gz 98.1%1%ommands_v0.02.tar.gz 98.1%8.1%ch_commands_v0.02.tar.gz 98.1%gz 98.2%g speech_commands_v0.02.tar.gz 98.2%ommands_v0.02.tar.gz 98.2%2%_commands_v0.02.tar.gz 98.2%3%8.3%ch_commands_v0.02.tar.gz 98.3%ommands_v0.02.tar.gz 98.3%8.4%_commands_v0.02.tar.gz 98.5%_commands_v0.02.tar.gz 98.5%6%ommands_v0.02.tar.gz 98.6%_commands_v0.02.tar.gz 98.6%7%ommands_v0.02.tar.gz 98.7%ommands_v0.02.tar.gz 98.7%_commands_v0.02.tar.gz 98.8%ommands_v0.02.tar.gz 98.8%ch_commands_v0.02.tar.gz 98.8%ommands_v0.02.tar.gz 98.9%ommands_v0.02.tar.gz 99.0%0%_commands_v0.02.tar.gz 99.0%ommands_v0.02.tar.gz 99.1%ommands_v0.02.tar.gz 99.1%2%9.2%3%3%ommands_v0.02.tar.gz 99.4%_commands_v0.02.tar.gz 99.4%ommands_v0.02.tar.gz 99.4%4%_commands_v0.02.tar.gz 99.4%5%ommands_v0.02.tar.gz 99.6%6%ommands_v0.02.tar.gz 99.7%ommands_v0.02.tar.gz 99.7%ommands_v0.02.tar.gz 99.8%ommands_v0.02.tar.gz 99.8%9%ommands_v0.02.tar.gz 99.9% speech_commands_v0.02.tar.gz 100.0%\n",
      "WARNING:tensorflow:From /Users/montoyamoraga/github/montoyamoraga/tiny-trainable-instruments/drumming/env/lib/python2.7/site-packages/tensorflow_core/python/ops/losses/losses_impl.py:121: where (from tensorflow.python.ops.array_ops) is deprecated and will be removed in a future version.\n",
      "Instructions for updating:\n",
      "Use tf.where in 2.0, which has the same broadcast rule as np.where\n",
      "W1022 18:26:05.694917 4402875840 deprecation.py:323] From /Users/montoyamoraga/github/montoyamoraga/tiny-trainable-instruments/drumming/env/lib/python2.7/site-packages/tensorflow_core/python/ops/losses/losses_impl.py:121: where (from tensorflow.python.ops.array_ops) is deprecated and will be removed in a future version.\n",
      "Instructions for updating:\n",
      "Use tf.where in 2.0, which has the same broadcast rule as np.where\n",
      "WARNING:tensorflow:From /Users/montoyamoraga/github/montoyamoraga/tiny-trainable-instruments/drumming/env/lib/python2.7/site-packages/tensorflow_core/python/training/saver.py:963: remove_checkpoint (from tensorflow.python.training.checkpoint_management) is deprecated and will be removed in a future version.\n",
      "Instructions for updating:\n",
      "Use standard file APIs to delete files with this prefix.\n",
      "W1022 19:37:19.001836 4402875840 deprecation.py:323] From /Users/montoyamoraga/github/montoyamoraga/tiny-trainable-instruments/drumming/env/lib/python2.7/site-packages/tensorflow_core/python/training/saver.py:963: remove_checkpoint (from tensorflow.python.training.checkpoint_management) is deprecated and will be removed in a future version.\n",
      "Instructions for updating:\n",
      "Use standard file APIs to delete files with this prefix.\n"
     ]
    }
   ],
   "source": [
    "!python tensorflow/tensorflow/examples/speech_commands/train.py \\\n",
    "--data_dir={DATASET_DIR} \\\n",
    "--wanted_words={WANTED_WORDS} \\\n",
    "--silence_percentage={SILENT_PERCENTAGE} \\\n",
    "--unknown_percentage={UNKNOWN_PERCENTAGE} \\\n",
    "--preprocess={PREPROCESS} \\\n",
    "--window_stride={WINDOW_STRIDE} \\\n",
    "--model_architecture={MODEL_ARCHITECTURE} \\\n",
    "--how_many_training_steps={TRAINING_STEPS} \\\n",
    "--learning_rate={LEARNING_RATE} \\\n",
    "--train_dir={TRAIN_DIR} \\\n",
    "--summaries_dir={LOGS_DIR} \\\n",
    "--verbosity={VERBOSITY} \\\n",
    "--eval_step_interval={EVAL_STEP_INTERVAL} \\\n",
    "--save_step_interval={SAVE_STEP_INTERVAL}"
   ]
  },
  {
   "cell_type": "code",
   "execution_count": null,
   "metadata": {},
   "outputs": [],
   "source": [
    "!rm -rf {SAVED_MODEL}\n",
    "!python tensorflow/tensorflow/examples/speech_commands/freeze.py \\\n",
    "--wanted_words=$WANTED_WORDS \\\n",
    "--window_stride_ms=$WINDOW_STRIDE \\\n",
    "--preprocess=$PREPROCESS \\\n",
    "--model_architecture=$MODEL_ARCHITECTURE \\\n",
    "--start_checkpoint=$TRAIN_DIR$MODEL_ARCHITECTURE'.ckpt-'{TOTAL_STEPS} \\\n",
    "--save_format=saved_model \\\n",
    "--output_file={SAVED_MODEL}"
   ]
  },
  {
   "cell_type": "code",
   "execution_count": null,
   "metadata": {},
   "outputs": [],
   "source": [
    "import sys\n",
    "# We add this path so we can import the speech processing modules.\n",
    "sys.path.append(\"/content/tensorflow/tensorflow/examples/speech_commands/\")\n",
    "import input_data\n",
    "import models\n",
    "import numpy as np"
   ]
  },
  {
   "cell_type": "code",
   "execution_count": null,
   "metadata": {},
   "outputs": [],
   "source": [
    "SAMPLE_RATE = 16000\n",
    "CLIP_DURATION_MS = 1000\n",
    "WINDOW_SIZE_MS = 30.0\n",
    "FEATURE_BIN_COUNT = 40\n",
    "BACKGROUND_FREQUENCY = 0.8\n",
    "BACKGROUND_VOLUME_RANGE = 0.1\n",
    "TIME_SHIFT_MS = 100.0\n",
    "\n",
    "DATA_URL = 'https://storage.googleapis.com/download.tensorflow.org/data/speech_commands_v0.02.tar.gz'\n",
    "VALIDATION_PERCENTAGE = 10\n",
    "TESTING_PERCENTAGE = 10"
   ]
  },
  {
   "cell_type": "code",
   "execution_count": null,
   "metadata": {},
   "outputs": [],
   "source": [
    "model_settings = models.prepare_model_settings(\n",
    "    len(input_data.prepare_words_list(WANTED_WORDS.split(','))),\n",
    "    SAMPLE_RATE, CLIP_DURATION_MS, WINDOW_SIZE_MS,\n",
    "    WINDOW_STRIDE, FEATURE_BIN_COUNT, PREPROCESS)\n",
    "audio_processor = input_data.AudioProcessor(\n",
    "    DATA_URL, DATASET_DIR,\n",
    "    SILENT_PERCENTAGE, UNKNOWN_PERCENTAGE,\n",
    "    WANTED_WORDS.split(','), VALIDATION_PERCENTAGE,\n",
    "    TESTING_PERCENTAGE, model_settings, LOGS_DIR)"
   ]
  },
  {
   "cell_type": "code",
   "execution_count": null,
   "metadata": {},
   "outputs": [],
   "source": [
    "with tf.Session() as sess:\n",
    "  float_converter = tf.lite.TFLiteConverter.from_saved_model(SAVED_MODEL)\n",
    "  float_tflite_model = float_converter.convert()\n",
    "  float_tflite_model_size = open(FLOAT_MODEL_TFLITE, \"wb\").write(float_tflite_model)\n",
    "  print(\"Float model is %d bytes\" % float_tflite_model_size)\n",
    "\n",
    "  converter = tf.lite.TFLiteConverter.from_saved_model(SAVED_MODEL)\n",
    "  converter.optimizations = [tf.lite.Optimize.DEFAULT]\n",
    "  converter.inference_input_type = tf.lite.constants.INT8\n",
    "  converter.inference_output_type = tf.lite.constants.INT8\n",
    "  def representative_dataset_gen():\n",
    "    for i in range(100):\n",
    "      data, _ = audio_processor.get_data(1, i*1, model_settings,\n",
    "                                         BACKGROUND_FREQUENCY, \n",
    "                                         BACKGROUND_VOLUME_RANGE,\n",
    "                                         TIME_SHIFT_MS,\n",
    "                                         'testing',\n",
    "                                         sess)\n",
    "      flattened_data = np.array(data.flatten(), dtype=np.float32).reshape(1, 1960)\n",
    "      yield [flattened_data]\n",
    "  converter.representative_dataset = representative_dataset_gen\n",
    "  tflite_model = converter.convert()\n",
    "  tflite_model_size = open(MODEL_TFLITE, \"wb\").write(tflite_model)\n",
    "  print(\"Quantized model is %d bytes\" % tflite_model_size)"
   ]
  },
  {
   "cell_type": "code",
   "execution_count": null,
   "metadata": {},
   "outputs": [],
   "source": [
    "# Helper function to run inference\n",
    "def run_tflite_inference(tflite_model_path, model_type=\"Float\"):\n",
    "  # Load test data\n",
    "  np.random.seed(0) # set random seed for reproducible test results.\n",
    "  with tf.Session() as sess:\n",
    "    test_data, test_labels = audio_processor.get_data(\n",
    "        -1, 0, model_settings, BACKGROUND_FREQUENCY, BACKGROUND_VOLUME_RANGE,\n",
    "        TIME_SHIFT_MS, 'testing', sess)\n",
    "  test_data = np.expand_dims(test_data, axis=1).astype(np.float32)\n",
    "\n",
    "  # Initialize the interpreter\n",
    "  interpreter = tf.lite.Interpreter(tflite_model_path)\n",
    "  interpreter.allocate_tensors()\n",
    "\n",
    "  input_details = interpreter.get_input_details()[0]\n",
    "  output_details = interpreter.get_output_details()[0]\n",
    "\n",
    "  # For quantized models, manually quantize the input data from float to integer\n",
    "  if model_type == \"Quantized\":\n",
    "    input_scale, input_zero_point = input_details[\"quantization\"]\n",
    "    test_data = test_data / input_scale + input_zero_point\n",
    "    test_data = test_data.astype(input_details[\"dtype\"])\n",
    "\n",
    "  correct_predictions = 0\n",
    "  for i in range(len(test_data)):\n",
    "    interpreter.set_tensor(input_details[\"index\"], test_data[i])\n",
    "    interpreter.invoke()\n",
    "    output = interpreter.get_tensor(output_details[\"index\"])[0]\n",
    "    top_prediction = output.argmax()\n",
    "    correct_predictions += (top_prediction == test_labels[i])\n",
    "\n",
    "  print('%s model accuracy is %f%% (Number of test samples=%d)' % (\n",
    "      model_type, (correct_predictions * 100) / len(test_data), len(test_data)))"
   ]
  },
  {
   "cell_type": "code",
   "execution_count": null,
   "metadata": {},
   "outputs": [],
   "source": [
    "# Compute float model accuracy\n",
    "run_tflite_inference(FLOAT_MODEL_TFLITE)\n",
    "\n",
    "# Compute quantized model accuracy\n",
    "run_tflite_inference(MODEL_TFLITE, model_type='Quantized')"
   ]
  },
  {
   "cell_type": "code",
   "execution_count": null,
   "metadata": {},
   "outputs": [],
   "source": [
    "# Install xxd if it is not available\n",
    "!apt-get update && apt-get -qq install xxd\n",
    "# Convert to a C source file\n",
    "!xxd -i {MODEL_TFLITE} > {MODEL_TFLITE_MICRO}\n",
    "# Update variable names\n",
    "REPLACE_TEXT = MODEL_TFLITE.replace('/', '_').replace('.', '_')\n",
    "!sed -i 's/'{REPLACE_TEXT}'/g_model/g' {MODEL_TFLITE_MICRO}"
   ]
  },
  {
   "cell_type": "code",
   "execution_count": null,
   "metadata": {},
   "outputs": [],
   "source": [
    "# Print the C source file\n",
    "!cat {MODEL_TFLITE_MICRO}"
   ]
  }
 ],
 "metadata": {
  "kernelspec": {
   "display_name": "Python 3",
   "language": "python",
   "name": "python3"
  },
  "language_info": {
   "codemirror_mode": {
    "name": "ipython",
    "version": 3
   },
   "file_extension": ".py",
   "mimetype": "text/x-python",
   "name": "python",
   "nbconvert_exporter": "python",
   "pygments_lexer": "ipython3",
   "version": "3.8.6"
  }
 },
 "nbformat": 4,
 "nbformat_minor": 4
}
