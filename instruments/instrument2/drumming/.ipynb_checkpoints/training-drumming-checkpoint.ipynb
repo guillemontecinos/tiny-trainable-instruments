{
 "cells": [
  {
   "cell_type": "code",
   "execution_count": 1,
   "metadata": {},
   "outputs": [
    {
     "name": "stdout",
     "output_type": "stream",
     "text": [
      "Training these words: yes,no\n",
      "Training steps in each stage: 12000,3000\n",
      "Learning rate in each stage: 0.001,0.0001\n",
      "Total number of training steps: 15000\n"
     ]
    }
   ],
   "source": [
    "# A comma-delimited list of the words you want to train for.\n",
    "# The options are: yes,no,up,down,left,right,on,off,stop,go\n",
    "# All the other words will be used to train an \"unknown\" label and silent\n",
    "# audio data with no spoken words will be used to train a \"silence\" label.\n",
    "WANTED_WORDS = \"yes,no\"\n",
    "\n",
    "# The number of steps and learning rates can be specified as comma-separated\n",
    "# lists to define the rate at each stage. For example,\n",
    "# TRAINING_STEPS=12000,3000 and LEARNING_RATE=0.001,0.0001\n",
    "# will run 12,000 training loops in total, with a rate of 0.001 for the first\n",
    "# 8,000, and 0.0001 for the final 3,000.\n",
    "TRAINING_STEPS = \"12000,3000\"\n",
    "LEARNING_RATE = \"0.001,0.0001\"\n",
    "\n",
    "# Calculate the total number of steps, which is used to identify the checkpoint\n",
    "# file name.\n",
    "TOTAL_STEPS = str(sum(map(lambda string: int(string), TRAINING_STEPS.split(\",\"))))\n",
    "\n",
    "# Print the configuration to confirm it\n",
    "print(\"Training these words: %s\" % WANTED_WORDS)\n",
    "print(\"Training steps in each stage: %s\" % TRAINING_STEPS)\n",
    "print(\"Learning rate in each stage: %s\" % LEARNING_RATE)\n",
    "print(\"Total number of training steps: %s\" % TOTAL_STEPS)"
   ]
  },
  {
   "cell_type": "code",
   "execution_count": 2,
   "metadata": {},
   "outputs": [],
   "source": [
    "# Calculate the percentage of 'silence' and 'unknown' training samples required\n",
    "# to ensure that we have equal number of samples for each label.\n",
    "number_of_labels = WANTED_WORDS.count(',') + 1\n",
    "number_of_total_labels = number_of_labels + 2 # for 'silence' and 'unknown' label\n",
    "equal_percentage_of_training_samples = int(100.0/(number_of_total_labels))\n",
    "SILENT_PERCENTAGE = equal_percentage_of_training_samples\n",
    "UNKNOWN_PERCENTAGE = equal_percentage_of_training_samples\n",
    "\n",
    "# Constants which are shared during training and inference\n",
    "PREPROCESS = 'micro'\n",
    "WINDOW_STRIDE = 20\n",
    "MODEL_ARCHITECTURE = 'tiny_conv' # Other options include: single_fc, conv,\n",
    "                      # low_latency_conv, low_latency_svdf, tiny_embedding_conv\n",
    "\n",
    "# Constants used during training only\n",
    "VERBOSITY = 'WARN'\n",
    "EVAL_STEP_INTERVAL = '1000'\n",
    "SAVE_STEP_INTERVAL = '1000'\n",
    "\n",
    "# Constants for training directories and filepaths\n",
    "DATASET_DIR =  'dataset/'\n",
    "LOGS_DIR = 'logs/'\n",
    "TRAIN_DIR = 'train/' # for training checkpoints and other files.\n",
    "\n",
    "# Constants for inference directories and filepaths\n",
    "import os\n",
    "MODELS_DIR = 'models'\n",
    "if not os.path.exists(MODELS_DIR):\n",
    "  os.mkdir(MODELS_DIR)\n",
    "MODEL_TF = os.path.join(MODELS_DIR, 'model.pb')\n",
    "MODEL_TFLITE = os.path.join(MODELS_DIR, 'model.tflite')\n",
    "FLOAT_MODEL_TFLITE = os.path.join(MODELS_DIR, 'float_model.tflite')\n",
    "MODEL_TFLITE_MICRO = os.path.join(MODELS_DIR, 'model.cc')\n",
    "SAVED_MODEL = os.path.join(MODELS_DIR, 'saved_model')\n",
    "\n",
    "QUANT_INPUT_MIN = 0.0\n",
    "QUANT_INPUT_MAX = 26.0\n",
    "QUANT_INPUT_RANGE = QUANT_INPUT_MAX - QUANT_INPUT_MIN"
   ]
  },
  {
   "cell_type": "code",
   "execution_count": 3,
   "metadata": {},
   "outputs": [],
   "source": [
    "import tensorflow as tf"
   ]
  },
  {
   "cell_type": "code",
   "execution_count": 4,
   "metadata": {},
   "outputs": [],
   "source": [
    "!rm -rf {DATASET_DIR} {LOGS_DIR} {TRAIN_DIR} {MODELS_DIR}"
   ]
  },
  {
   "cell_type": "code",
   "execution_count": 7,
   "metadata": {},
   "outputs": [],
   "source": [
    "!git clone -q --depth 1 https://github.com/tensorflow/tensorflow"
   ]
  },
  {
   "cell_type": "code",
   "execution_count": null,
   "metadata": {},
   "outputs": [
    {
     "name": "stdout",
     "output_type": "stream",
     "text": [
      "2020-10-22 18:18:08.882883: I tensorflow/core/platform/cpu_feature_guard.cc:142] Your CPU supports instructions that this TensorFlow binary was not compiled to use: AVX2 FMA\n",
      "2020-10-22 18:18:08.933449: I tensorflow/compiler/xla/service/service.cc:168] XLA service 0x7fa5627041c0 initialized for platform Host (this does not guarantee that XLA will be used). Devices:\n",
      "2020-10-22 18:18:08.933490: I tensorflow/compiler/xla/service/service.cc:176]   StreamExecutor device (0): Host, Default Version\n",
      ">> Downloading speech_commands_v0.02.tar.gz 22.9%3.6% 5.5% 5.5% 6.0%ar.gz 6.1% 6.4% 7.4% 8.5% 8.9% 9.3% 9.6%7%ommands_v0.02.tar.gz 10.9%_commands_v0.02.tar.gz 10.9%ommands_v0.02.tar.gz 11.2%ommands_v0.02.tar.gz 11.8%ommands_v0.02.tar.gz 12.0%ommands_v0.02.tar.gz 12.0%ommands_v0.02.tar.gz 12.3%5%2.5%6%ommands_v0.02.tar.gz 12.8%_commands_v0.02.tar.gz 12.8%_commands_v0.02.tar.gz 14.2%ommands_v0.02.tar.gz 14.4%ommands_v0.02.tar.gz 15.1%ommands_v0.02.tar.gz 15.3%ommands_v0.02.tar.gz 15.4%ommands_v0.02.tar.gz 15.5%ommands_v0.02.tar.gz 15.7%ommands_v0.02.tar.gz 15.7%ommands_v0.02.tar.gz 16.0%ommands_v0.02.tar.gz 16.1%2%ommands_v0.02.tar.gz 16.7%8%_commands_v0.02.tar.gz 16.8%9%9%ommands_v0.02.tar.gz 17.1%ommands_v0.02.tar.gz 17.2%_commands_v0.02.tar.gz 17.2%4%4%ommands_v0.02.tar.gz 17.5%_commands_v0.02.tar.gz 17.6%_commands_v0.02.tar.gz 17.7%ommands_v0.02.tar.gz 17.7%ommands_v0.02.tar.gz 17.8%ommands_v0.02.tar.gz 17.9%9%9%0%ommands_v0.02.tar.gz 18.0%ommands_v0.02.tar.gz 18.1%speech_commands_v0.02.tar.gz 18.3%ommands_v0.02.tar.gz 18.4%ommands_v0.02.tar.gz 18.5%ommands_v0.02.tar.gz 18.6%ommands_v0.02.tar.gz 18.8%ommands_v0.02.tar.gz 19.4%ommands_v0.02.tar.gz 19.5%5%ommands_v0.02.tar.gz 19.6%ommands_v0.02.tar.gz 19.6%ommands_v0.02.tar.gz 19.9%9%_commands_v0.02.tar.gz 19.9%ommands_v0.02.tar.gz 20.0%ommands_v0.02.tar.gz 20.0%_commands_v0.02.tar.gz 20.1%1%_commands_v0.02.tar.gz 20.2%0.2% 20.2%ommands_v0.02.tar.gz 20.2% 20.4%4%ommands_v0.02.tar.gz 20.7%7%_commands_v0.02.tar.gz 21.1%ch_commands_v0.02.tar.gz 21.1%ing speech_commands_v0.02.tar.gz 21.2%ommands_v0.02.tar.gz 21.2%ommands_v0.02.tar.gz 21.3%4%ommands_v0.02.tar.gz 21.5%ommands_v0.02.tar.gz 21.6%ommands_v0.02.tar.gz 21.7%_commands_v0.02.tar.gz 21.7%ommands_v0.02.tar.gz 21.8%0%0%2%_commands_v0.02.tar.gz 22.2%ommands_v0.02.tar.gz 22.2%ommands_v0.02.tar.gz 22.3%ommands_v0.02.tar.gz 22.4%5%_commands_v0.02.tar.gz 22.5% 22.7%ch_commands_v0.02.tar.gz 22.7%2.8%"
     ]
    }
   ],
   "source": [
    "!python tensorflow/tensorflow/examples/speech_commands/train.py \\\n",
    "--data_dir={DATASET_DIR} \\\n",
    "--wanted_words={WANTED_WORDS} \\\n",
    "--silence_percentage={SILENT_PERCENTAGE} \\\n",
    "--unknown_percentage={UNKNOWN_PERCENTAGE} \\\n",
    "--preprocess={PREPROCESS} \\\n",
    "--window_stride={WINDOW_STRIDE} \\\n",
    "--model_architecture={MODEL_ARCHITECTURE} \\\n",
    "--how_many_training_steps={TRAINING_STEPS} \\\n",
    "--learning_rate={LEARNING_RATE} \\\n",
    "--train_dir={TRAIN_DIR} \\\n",
    "--summaries_dir={LOGS_DIR} \\\n",
    "--verbosity={VERBOSITY} \\\n",
    "--eval_step_interval={EVAL_STEP_INTERVAL} \\\n",
    "--save_step_interval={SAVE_STEP_INTERVAL}"
   ]
  },
  {
   "cell_type": "code",
   "execution_count": null,
   "metadata": {},
   "outputs": [],
   "source": [
    "!rm -rf {SAVED_MODEL}\n",
    "!python tensorflow/tensorflow/examples/speech_commands/freeze.py \\\n",
    "--wanted_words=$WANTED_WORDS \\\n",
    "--window_stride_ms=$WINDOW_STRIDE \\\n",
    "--preprocess=$PREPROCESS \\\n",
    "--model_architecture=$MODEL_ARCHITECTURE \\\n",
    "--start_checkpoint=$TRAIN_DIR$MODEL_ARCHITECTURE'.ckpt-'{TOTAL_STEPS} \\\n",
    "--save_format=saved_model \\\n",
    "--output_file={SAVED_MODEL}"
   ]
  }
 ],
 "metadata": {
  "kernelspec": {
   "display_name": "Python 2",
   "language": "python",
   "name": "python2"
  },
  "language_info": {
   "codemirror_mode": {
    "name": "ipython",
    "version": 2
   },
   "file_extension": ".py",
   "mimetype": "text/x-python",
   "name": "python",
   "nbconvert_exporter": "python",
   "pygments_lexer": "ipython2",
   "version": "2.7.17"
  }
 },
 "nbformat": 4,
 "nbformat_minor": 4
}
