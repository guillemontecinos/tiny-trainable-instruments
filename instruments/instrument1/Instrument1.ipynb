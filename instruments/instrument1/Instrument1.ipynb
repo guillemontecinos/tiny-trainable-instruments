{
 "cells": [
  {
   "cell_type": "markdown",
   "id": "macro-personality",
   "metadata": {},
   "source": [
    "# Instrument1"
   ]
  },
  {
   "cell_type": "markdown",
   "id": "checked-absolute",
   "metadata": {},
   "source": [
    "## Reference\n",
    "\n",
    "* https://www.tensorflow.org/lite/microcontrollers/get_started\n",
    "* https://colab.research.google.com/github/tensorflow/tensorflow/blob/master/tensorflow/lite/micro/examples/hello_world/train/train_hello_world_model.ipynb"
   ]
  },
  {
   "cell_type": "markdown",
   "id": "favorite-wheat",
   "metadata": {},
   "source": [
    "## Install Python packages"
   ]
  },
  {
   "cell_type": "code",
   "execution_count": null,
   "id": "tutorial-harbor",
   "metadata": {},
   "outputs": [],
   "source": [
    "!pip install tensorflow\n",
    "!pip install pandas\n",
    "!pip install numpy\n",
    "!pip install matplotlib"
   ]
  },
  {
   "cell_type": "markdown",
   "id": "opening-footwear",
   "metadata": {},
   "source": [
    "## Upload data\n",
    "\n",
    "* This Jupyter notebook lives right next to a folder called data\n",
    "* The data lives in the files gesture0.csv, gesture1.csv, and gesture2.csv\n",
    "* For generating your own data and replacing these files, use the sketch inst1_collecting_data"
   ]
  },
  {
   "cell_type": "markdown",
   "id": "editorial-region",
   "metadata": {},
   "source": [
    "## Graph data"
   ]
  },
  {
   "cell_type": "code",
   "execution_count": null,
   "id": "minimal-florida",
   "metadata": {},
   "outputs": [],
   "source": [
    "# import Python modules\n",
    "import matplotlib.pyplot as plt\n",
    "import numpy as np\n",
    "import pandas as pd\n",
    "\n",
    "# list of filenames\n",
    "filenames = [\"gesture0.csv\", \"gesture1.csv\", \"gesture2.csv\"]\n",
    "\n",
    "# create list of readings with pandas\n",
    "df = list()\n",
    "for i in range(len(filenames)):\n",
    "    df.append(pd.read_csv(\"./data/\" + filenames[i]))\n",
    "\n",
    "# create list of indices\n",
    "indices = list()\n",
    "for i in range(len(df)):\n",
    "    indices = range(1, len(df[i]['aX']) + 1)\n",
    "    \n",
    "# TODO: what does this line do?\n",
    "plt.rcParams[\"figure.figsize\"] = (20,10)\n",
    "\n",
    "\n",
    "# plot acceleration and gyroscope data for each file\n",
    "for i in range(len(df)):\n",
    "    plt.plot(index, df[i]['aX'], 'g.', label='x', linestyle='solid', marker=',')\n",
    "    plt.plot(index, df[i]['aY'], 'b.', label='y', linestyle='solid', marker=',')\n",
    "    plt.plot(index, df[i]['aZ'], 'r.', label='z', linestyle='solid', marker=',')\n",
    "    plt.title(\"acceleration \" + filenames[i])\n",
    "    plt.xlabel(\"sample number\")\n",
    "    plt.ylabel(\"acceleration (G)\")\n",
    "    plt.legend()\n",
    "    plt.show()\n",
    "\n",
    "    plt.plot(index, df[i]['gX'], 'g.', label='x', linestyle='solid', marker=',')\n",
    "    plt.plot(index, df[i]['gY'], 'b.', label='y', linestyle='solid', marker=',')\n",
    "    plt.plot(index, df[i]['gZ'], 'r.', label='z', linestyle='solid', marker=',')\n",
    "    plt.title(\"gyroscope \" + filenames[i])\n",
    "    plt.xlabel(\"sample number\")\n",
    "    plt.ylabel(\"gyroscope (deg/sec)\")\n",
    "    plt.legend()\n",
    "    plt.show()"
   ]
  },
  {
   "cell_type": "markdown",
   "id": "naughty-austria",
   "metadata": {},
   "source": [
    "## Train neural network"
   ]
  },
  {
   "cell_type": "code",
   "execution_count": null,
   "id": "increasing-cocktail",
   "metadata": {},
   "outputs": [],
   "source": []
  },
  {
   "cell_type": "markdown",
   "id": "southwest-campbell",
   "metadata": {},
   "source": [
    "## Parse the data"
   ]
  },
  {
   "cell_type": "code",
   "execution_count": null,
   "id": "front-credits",
   "metadata": {},
   "outputs": [],
   "source": [
    "# import modules\n",
    "import matplotlib.pyplot as plt\n",
    "import numpy as np\n",
    "import pandas as pd\n",
    "import tensorflow as tf\n",
    "\n",
    "# print TensorFlow version\n",
    "print(f\"TensorFlow version = {tf.__version__}\\n\")\n",
    "\n",
    "# set a seed the pseudo-random numbers\n",
    "# with a seed we get the same pseudo-random numbers each time\n",
    "seed = 12345\n",
    "np.random.seed(seed)\n",
    "tf.random.set_seed(seed)\n"
   ]
  },
  {
   "cell_type": "markdown",
   "id": "responsible-taste",
   "metadata": {},
   "source": [
    "## Build and train the model"
   ]
  },
  {
   "cell_type": "code",
   "execution_count": null,
   "id": "vertical-underwear",
   "metadata": {},
   "outputs": [],
   "source": [
    "# build the model and train it\n",
    "\n",
    "# model variable for a sequential\n",
    "model = tf.keras.Sequential()\n",
    "\n",
    "\n",
    "model.add(tf.keras.layers.Dense(50, activation='relu')) # relu is used for performance\n",
    "\n",
    "model.add(tf.keras.layers.Dense(15, activation='relu'))\n",
    "\n",
    "model.add(tf.keras.layers.Dense(NUM_GESTURES, activation='softmax')) # softmax is used, because we only expect one gesture to occur per input\n",
    "\n",
    "model.compile(optimizer='rmsprop', loss='mse', metrics=['mae'])\n",
    "\n",
    "history = model.fit(inputs_train, outputs_train, epochs=600, batch_size=1, validation_data=(inputs_validate, outputs_validate))\n",
    "\n"
   ]
  },
  {
   "cell_type": "markdown",
   "id": "becoming-olympus",
   "metadata": {},
   "source": [
    "## Convert the trained model to TensorFlow Lite"
   ]
  },
  {
   "cell_type": "markdown",
   "id": "requested-brake",
   "metadata": {},
   "source": [
    "## Encode the model in a header file for Arduino\n"
   ]
  },
  {
   "cell_type": "code",
   "execution_count": null,
   "id": "australian-order",
   "metadata": {},
   "outputs": [],
   "source": []
  },
  {
   "cell_type": "code",
   "execution_count": null,
   "id": "close-durham",
   "metadata": {},
   "outputs": [],
   "source": []
  }
 ],
 "metadata": {
  "kernelspec": {
   "display_name": "Python 3",
   "language": "python",
   "name": "python3"
  },
  "language_info": {
   "codemirror_mode": {
    "name": "ipython",
    "version": 3
   },
   "file_extension": ".py",
   "mimetype": "text/x-python",
   "name": "python",
   "nbconvert_exporter": "python",
   "pygments_lexer": "ipython3",
   "version": "3.8.6"
  }
 },
 "nbformat": 4,
 "nbformat_minor": 5
}
