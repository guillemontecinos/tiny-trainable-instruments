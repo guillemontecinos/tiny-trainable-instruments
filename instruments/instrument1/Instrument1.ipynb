{
 "cells": [
  {
   "cell_type": "markdown",
   "id": "worldwide-suggestion",
   "metadata": {},
   "source": [
    "# Instrument1"
   ]
  },
  {
   "cell_type": "markdown",
   "id": "bronze-technology",
   "metadata": {},
   "source": [
    "## Reference\n",
    "\n",
    "* https://www.tensorflow.org/lite/microcontrollers/get_started\n",
    "* https://colab.research.google.com/github/tensorflow/tensorflow/blob/master/tensorflow/lite/micro/examples/hello_world/train/train_hello_world_model.ipynb"
   ]
  },
  {
   "cell_type": "markdown",
   "id": "entire-first",
   "metadata": {},
   "source": [
    "## Install Python packages"
   ]
  },
  {
   "cell_type": "code",
   "execution_count": null,
   "id": "passing-spider",
   "metadata": {},
   "outputs": [],
   "source": [
    "!pip install tensorflow\n",
    "!pip install pandas\n",
    "!pip install numpy\n",
    "!pip install matplotlib"
   ]
  },
  {
   "cell_type": "markdown",
   "id": "perceived-marble",
   "metadata": {},
   "source": [
    "## Upload data"
   ]
  },
  {
   "cell_type": "markdown",
   "id": "confidential-liverpool",
   "metadata": {},
   "source": [
    "## Train neural network"
   ]
  },
  {
   "cell_type": "markdown",
   "id": "another-platform",
   "metadata": {},
   "source": [
    "## Convert the trained model to TensorFlow Lite"
   ]
  },
  {
   "cell_type": "code",
   "execution_count": null,
   "id": "suburban-bacteria",
   "metadata": {},
   "outputs": [],
   "source": []
  }
 ],
 "metadata": {
  "kernelspec": {
   "display_name": "Python 3",
   "language": "python",
   "name": "python3"
  },
  "language_info": {
   "codemirror_mode": {
    "name": "ipython",
    "version": 3
   },
   "file_extension": ".py",
   "mimetype": "text/x-python",
   "name": "python",
   "nbconvert_exporter": "python",
   "pygments_lexer": "ipython3",
   "version": "3.8.6"
  }
 },
 "nbformat": 4,
 "nbformat_minor": 5
}
